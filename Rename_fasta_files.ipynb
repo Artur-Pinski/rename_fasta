{
 "cells": [
  {
   "cell_type": "code",
   "execution_count": 182,
   "id": "0b39c148-ce17-4268-9784-7c6bcec52d3a",
   "metadata": {},
   "outputs": [
    {
     "name": "stdout",
     "output_type": "stream",
     "text": [
      "Overwriting rename_fasta.py\n"
     ]
    }
   ],
   "source": [
    "%%writefile rename_fasta.py\n",
    "import os\n",
    "import pandas as pd\n",
    "from Bio import SeqIO\n",
    "import glob\n",
    "from Bio.SeqRecord import SeqRecord\n",
    "\n",
    "def get_id_new_id(file_name: str, new_name: str):\n",
    "    \"\"\"\n",
    "    Read the FASTA format file, extract the sequence names,\n",
    "    add new column \"new\" with the names \"new_name_n\" and \n",
    "    return a dictionary of old and new names\n",
    "    \"\"\"\n",
    "    # Read the fasta file and extract the sequence names\n",
    "    data = pd.DataFrame([record.id for record in SeqIO.parse(file_name, 'fasta')], columns=[\"old_id\"])\n",
    "        \n",
    "    # Add new column \"new\" with the names \"new_name_n\"\n",
    "    data[\"new\"] = [f\"{new_name}_{i}\" for i in range(1, data.shape[0] + 1)]\n",
    "                        \n",
    "    data = data.set_index('old_id').T.to_dict('index')['new']     \n",
    "    return data\n",
    "\n",
    "def rename_fasta(file_name: str, new_name: str):\n",
    "    \"\"\"\n",
    "    Rename the fasta file's sequence names to 'new_name_n' format\n",
    "    \"\"\"\n",
    "    new_seqs = []\n",
    "    old_new_names = get_id_new_id(file_name, new_name)\n",
    "    base, _ = os.path.splitext(file_name)\n",
    "    for record in SeqIO.parse(file_name, 'fasta'):\n",
    "        # Replace the old id with the new one\n",
    "        new_id = old_new_names[record.id]\n",
    "        new_seqs.append(SeqRecord(record.seq, id=new_id, description=record.description))\n",
    "    # write the new sequences in new fasta file \n",
    "    SeqIO.write(new_seqs, f\"{base}_renamed.fasta\", 'fasta')\n",
    "    \n",
    "for files in glob.glob('*.fasta'):\n",
    "    rename_fasta(files, 'Contig')\n"
   ]
  },
  {
   "cell_type": "code",
   "execution_count": 179,
   "id": "0e4844ba-e861-4432-8959-1d7fa5771f93",
   "metadata": {},
   "outputs": [],
   "source": []
  },
  {
   "cell_type": "code",
   "execution_count": null,
   "id": "93a216d0-126d-40b0-9971-930619c0b450",
   "metadata": {},
   "outputs": [],
   "source": []
  }
 ],
 "metadata": {
  "kernelspec": {
   "display_name": "Python 3 (ipykernel)",
   "language": "python",
   "name": "python3"
  },
  "language_info": {
   "codemirror_mode": {
    "name": "ipython",
    "version": 3
   },
   "file_extension": ".py",
   "mimetype": "text/x-python",
   "name": "python",
   "nbconvert_exporter": "python",
   "pygments_lexer": "ipython3",
   "version": "3.9.7"
  },
  "widgets": {
   "application/vnd.jupyter.widget-state+json": {
    "state": {},
    "version_major": 2,
    "version_minor": 0
   }
  }
 },
 "nbformat": 4,
 "nbformat_minor": 5
}
